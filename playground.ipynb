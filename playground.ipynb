{
 "cells": [
  {
   "cell_type": "code",
   "execution_count": 2,
   "metadata": {},
   "outputs": [],
   "source": [
    "import numpy as np\n",
    "from itertools import product as cartesian_prod\n",
    "\n",
    "import matplotlib.pyplot as plt\n",
    "\n",
    "from copy import deepcopy\n",
    "\n",
    "import torch\n",
    "import torch.nn as nn\n",
    "import torch.nn.functional as F\n",
    "import torch.optim as optim\n",
    "from tqdm import tqdm\n",
    "import os\n",
    "import argparse\n",
    "import sys\n",
    "\n",
    "from sklearn.svm import SVC\n",
    "np.set_printoptions(precision=2)\n",
    "from helper import plot_histogram,return_bound,return_data_elements,loaders\n",
    "from models import MLP"
   ]
  },
  {
   "cell_type": "code",
   "execution_count": 3,
   "metadata": {},
   "outputs": [],
   "source": [
    "from torch.utils.data import DataLoader\n",
    "from types import SimpleNamespace"
   ]
  },
  {
   "cell_type": "code",
   "execution_count": 4,
   "metadata": {},
   "outputs": [],
   "source": [
    "data_config1 = SimpleNamespace(\n",
    "    dim_in=10,\n",
    "    depth=3,\n",
    "    type_data='spherical',\n",
    "    num_points=10000,\n",
    "    radius=1,\n",
    "    dim_out=1\n",
    ")\n",
    "\n",
    "data_config2 = SimpleNamespace(\n",
    "    dim_in=20,\n",
    "    depth=4,\n",
    "    type_data='spherical',\n",
    "    num_points=20000,\n",
    "    radius=1,\n",
    "    dim_out=1\n",
    ")   \n",
    "\n",
    "data_config3 = SimpleNamespace(\n",
    "    dim_in=100,\n",
    "    depth=4,\n",
    "    type_data='spherical',\n",
    "    num_points=50000,\n",
    "    radius=1,\n",
    "    dim_out=1\n",
    ")"
   ]
  },
  {
   "cell_type": "code",
   "execution_count": 12,
   "metadata": {},
   "outputs": [],
   "source": [
    "data1= return_data_elements(data_config1)\n",
    "[x_train1,y_train1,x_test1,y_test1] = data1\n",
    "np.save('data/dataset1/x_train1.npy', x_train1.numpy())\n",
    "np.save('data/dataset1/y_train1.npy', y_train1.numpy())\n",
    "np.save('data/dataset1/x_test1.npy', x_test1.numpy())\n",
    "np.save('data/dataset1/y_test1.npy', y_test1.numpy())"
   ]
  },
  {
   "cell_type": "code",
   "execution_count": 16,
   "metadata": {},
   "outputs": [],
   "source": [
    "data2= return_data_elements(data_config2)\n",
    "[x_train2,y_train2,x_test2,y_test2] = data2\n",
    "np.save('data/dataset2/x_train2.npy', x_train2.numpy())\n",
    "np.save('data/dataset2/y_train2.npy', y_train2.numpy())\n",
    "np.save('data/dataset2/x_test2.npy', x_test2.numpy())\n",
    "np.save('data/dataset2/y_test2.npy', y_test2.numpy())\n"
   ]
  },
  {
   "cell_type": "code",
   "execution_count": 17,
   "metadata": {},
   "outputs": [],
   "source": [
    "data3= return_data_elements(data_config3)\n",
    "[x_train3,y_train3,x_test3,y_test3] = data3\n",
    "np.save('data/dataset3/x_train3.npy', x_train3.numpy())\n",
    "np.save('data/dataset3/y_train3.npy', y_train3.numpy())\n",
    "np.save('data/dataset3/x_test3.npy', x_test3.numpy())\n",
    "np.save('data/dataset3/y_test3.npy', y_test3.numpy())"
   ]
  },
  {
   "cell_type": "code",
   "execution_count": 18,
   "metadata": {},
   "outputs": [],
   "source": [
    "# save config as well\n",
    "np.save('data/dataset1/config.npy', data_config1)\n",
    "np.save('data/dataset2/config.npy', data_config2)\n",
    "np.save('data/dataset3/config.npy', data_config3)"
   ]
  },
  {
   "cell_type": "code",
   "execution_count": 19,
   "metadata": {},
   "outputs": [],
   "source": [
    "#load configs \n",
    "data_config1 = np.load('data/dataset1/config.npy',allow_pickle=True).item()\n",
    "data_config2 = np.load('data/dataset2/config.npy',allow_pickle=True).item()\n",
    "data_config3 = np.load('data/dataset3/config.npy',allow_pickle=True).item()"
   ]
  },
  {
   "cell_type": "code",
   "execution_count": 21,
   "metadata": {},
   "outputs": [
    {
     "ename": "FileNotFoundError",
     "evalue": "[Errno 2] No such file or directory: 'data/dataset1/x_train.npy'",
     "output_type": "error",
     "traceback": [
      "\u001b[0;31m---------------------------------------------------------------------------\u001b[0m",
      "\u001b[0;31mFileNotFoundError\u001b[0m                         Traceback (most recent call last)",
      "Cell \u001b[0;32mIn[21], line 2\u001b[0m\n\u001b[1;32m      1\u001b[0m \u001b[38;5;28mstr\u001b[39m\u001b[38;5;241m=\u001b[39m\u001b[38;5;124m'\u001b[39m\u001b[38;5;124mdata/dataset1/\u001b[39m\u001b[38;5;124m'\u001b[39m\n\u001b[0;32m----> 2\u001b[0m np\u001b[38;5;241m.\u001b[39mload(\u001b[38;5;124mf\u001b[39m\u001b[38;5;124m'\u001b[39m\u001b[38;5;132;01m{\u001b[39;00m\u001b[38;5;28mstr\u001b[39m\u001b[38;5;132;01m}\u001b[39;00m\u001b[38;5;124mx_train.npy\u001b[39m\u001b[38;5;124m'\u001b[39m)\n",
      "File \u001b[0;32m~/miniconda3/envs/env1/lib/python3.11/site-packages/numpy/lib/npyio.py:427\u001b[0m, in \u001b[0;36mload\u001b[0;34m(file, mmap_mode, allow_pickle, fix_imports, encoding, max_header_size)\u001b[0m\n\u001b[1;32m    425\u001b[0m     own_fid \u001b[38;5;241m=\u001b[39m \u001b[38;5;28;01mFalse\u001b[39;00m\n\u001b[1;32m    426\u001b[0m \u001b[38;5;28;01melse\u001b[39;00m:\n\u001b[0;32m--> 427\u001b[0m     fid \u001b[38;5;241m=\u001b[39m stack\u001b[38;5;241m.\u001b[39menter_context(\u001b[38;5;28mopen\u001b[39m(os_fspath(file), \u001b[38;5;124m\"\u001b[39m\u001b[38;5;124mrb\u001b[39m\u001b[38;5;124m\"\u001b[39m))\n\u001b[1;32m    428\u001b[0m     own_fid \u001b[38;5;241m=\u001b[39m \u001b[38;5;28;01mTrue\u001b[39;00m\n\u001b[1;32m    430\u001b[0m \u001b[38;5;66;03m# Code to distinguish from NumPy binary files and pickles.\u001b[39;00m\n",
      "\u001b[0;31mFileNotFoundError\u001b[0m: [Errno 2] No such file or directory: 'data/dataset1/x_train.npy'"
     ]
    }
   ],
   "source": [
    "str='data/dataset1/'\n",
    "np.load(f'{str}x_train1.npy')"
   ]
  },
  {
   "cell_type": "code",
   "execution_count": null,
   "metadata": {},
   "outputs": [],
   "source": [
    "#load data as numpy\n",
    "data1 = [np.load('data/dataset1/x_train1.npy'),np.load('data/dataset1/y_train1.npy'),np.load('data/dataset1/x_test1.npy'),np.load('data/dataset1/y_test1.npy')]\n",
    "data2 = [np.load('data/dataset2/x_train2.npy'),np.load('data/dataset2/y_train2.npy'),np.load('data/dataset2/x_test2.npy'),np.load('data/dataset2/y_test2.npy')]\n",
    "data3 = [np.load('data/dataset3/x_train3.npy'),np.load('data/dataset3/y_train3.npy'),np.load('data/dataset3/x_test3.npy'),np.load('data/dataset3/y_test3.npy')]\n"
   ]
  },
  {
   "cell_type": "code",
   "execution_count": 23,
   "metadata": {},
   "outputs": [],
   "source": [
    "from models import MLP"
   ]
  },
  {
   "cell_type": "code",
   "execution_count": 25,
   "metadata": {},
   "outputs": [],
   "source": [
    "model = MLP(hidden_layers=[4],input_dim=data_config1.dim_in,output_dim=2)"
   ]
  },
  {
   "cell_type": "code",
   "execution_count": 30,
   "metadata": {},
   "outputs": [
    {
     "data": {
      "text/plain": [
       "tensor(0.5090)"
      ]
     },
     "execution_count": 30,
     "metadata": {},
     "output_type": "execute_result"
    }
   ],
   "source": [
    "torch.sum(torch.argmax(model(x_train1),dim=1)==y_train1)/len(y_train1)"
   ]
  },
  {
   "cell_type": "code",
   "execution_count": 32,
   "metadata": {},
   "outputs": [],
   "source": [
    "loss_fn = nn.CrossEntropyLoss()"
   ]
  },
  {
   "cell_type": "code",
   "execution_count": 37,
   "metadata": {},
   "outputs": [
    {
     "data": {
      "text/plain": [
       "tensor([-0.1127, -0.0092, -0.0543,  ..., -0.0887, -0.0354,  0.1632],\n",
       "       grad_fn=<SelectBackward0>)"
      ]
     },
     "execution_count": 37,
     "metadata": {},
     "output_type": "execute_result"
    }
   ],
   "source": [
    "model(x_train1)[:,0]"
   ]
  },
  {
   "cell_type": "code",
   "execution_count": 38,
   "metadata": {},
   "outputs": [
    {
     "data": {
      "text/plain": [
       "tensor(0.7185, grad_fn=<NllLossBackward0>)"
      ]
     },
     "execution_count": 38,
     "metadata": {},
     "output_type": "execute_result"
    }
   ],
   "source": [
    "loss_fn(model(x_train1),y_train1.long())\n"
   ]
  },
  {
   "cell_type": "code",
   "execution_count": null,
   "metadata": {},
   "outputs": [],
   "source": []
  }
 ],
 "metadata": {
  "kernelspec": {
   "display_name": "env1",
   "language": "python",
   "name": "python3"
  },
  "language_info": {
   "codemirror_mode": {
    "name": "ipython",
    "version": 3
   },
   "file_extension": ".py",
   "mimetype": "text/x-python",
   "name": "python",
   "nbconvert_exporter": "python",
   "pygments_lexer": "ipython3",
   "version": "3.11.3"
  }
 },
 "nbformat": 4,
 "nbformat_minor": 2
}
